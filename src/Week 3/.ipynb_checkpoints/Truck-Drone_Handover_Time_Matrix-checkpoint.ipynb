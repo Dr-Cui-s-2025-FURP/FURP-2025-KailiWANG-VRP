{
 "cells": [
  {
   "cell_type": "code",
   "execution_count": 2,
   "id": "bbe6c820-6b86-4b69-aeb0-90578649d131",
   "metadata": {},
   "outputs": [
    {
     "name": "stdout",
     "output_type": "stream",
     "text": [
      "   latitude  longitude timestamp\n",
      "0    1.3500   103.8200   8:00:00\n",
      "1    1.3512   103.8215   8:02:30\n",
      "2    1.3520   103.8230   8:05:00\n",
      "3    1.3545   103.8245   8:08:00\n",
      "4    1.3560   103.8260   8:12:00\n"
     ]
    }
   ],
   "source": [
    "# 1. Load data\n",
    "import pandas as pd\n",
    "\n",
    "# Read truck path data\n",
    "truck_path = pd.read_csv(\"truckpath.csv\")\n",
    "\n",
    "# Print data\n",
    "print(truck_path.head())"
   ]
  },
  {
   "cell_type": "code",
   "execution_count": 13,
   "id": "577f0281-7e67-4c12-8bb7-2241b7f6a7eb",
   "metadata": {},
   "outputs": [
    {
     "name": "stdout",
     "output_type": "stream",
     "text": [
      "Number of selected handover points: 4\n",
      "[(1.35, 103.82), (1.3545, 103.8245), (1.359, 103.829), (1.3635, 103.8335)]\n"
     ]
    }
   ],
   "source": [
    "# 2. Extract candidate handover points.\n",
    "\n",
    "#The interval between adjacent intersections should be at least 500m, and avoid selecting points that are too dense.\n",
    "\n",
    "#Cover the entire path as much as possible to ensure that the drone has enough options.\n",
    "\n",
    "from geopy.distance import geodesic\n",
    "\n",
    "# Set the minimum interval between handover points (meter)\n",
    "min_handover_distance = 500  \n",
    "\n",
    "# Store the selected handover points\n",
    "handover_points = []\n",
    "last_point = None  \n",
    "\n",
    "for _, row in truck_path.iterrows():\n",
    "    point = (row[\"latitude\"], row[\"longitude\"])\n",
    "\n",
    "    # Select the first point\n",
    "    if last_point is None or geodesic(last_point, point).meters >= min_handover_distance:\n",
    "        handover_points.append(point)\n",
    "        last_point = point  # Update the last selected intersection\n",
    "\n",
    "# Output the filtered intersection points\n",
    "print(f\"Number of selected handover points: {len(handover_points)}\")\n",
    "print(handover_points[:5])  # Preview the first 5 handover points\n"
   ]
  },
  {
   "cell_type": "code",
   "execution_count": 4,
   "id": "9d09efaa-f72f-4186-a0f7-0e127425a0e7",
   "metadata": {},
   "outputs": [
    {
     "name": "stdout",
     "output_type": "stream",
     "text": [
      "Number of handover points accessible by drone: 4\n",
      "[(1.35, 103.82), (1.3545, 103.8245), (1.359, 103.829), (1.3635, 103.8335)]\n"
     ]
    }
   ],
   "source": [
    "# 3. Screening of drone-accessible handover points\n",
    "# Set the maximum range of the drone (unit: meters)\n",
    "drone_range = 5000  \n",
    "\n",
    "# Set the starting point of the drone (assuming it starts from the truck)\n",
    "drone_start = handover_points[0]  \n",
    "\n",
    "# Filter reachable intersection points\n",
    "reachable_handover_points = [\n",
    "    p for p in handover_points if geodesic(drone_start, p).meters <= drone_range\n",
    "]\n",
    "\n",
    "# Output result\n",
    "print(f\"Number of handover points accessible by drone: {len(reachable_handover_points)}\")\n",
    "print(reachable_handover_points[:5])  # Preview first 5\n"
   ]
  },
  {
   "cell_type": "code",
   "execution_count": 5,
   "id": "48bed1da-c6cf-4fe0-8754-ddfe3392f0fc",
   "metadata": {},
   "outputs": [
    {
     "name": "stdout",
     "output_type": "stream",
     "text": [
      "The handover point data has been saved to this file: 'reachable_handover_points.csv'\n"
     ]
    }
   ],
   "source": [
    "# Save reachable handover points as CSV file\n",
    "handover_df = pd.DataFrame(reachable_handover_points, columns=[\"latitude\", \"longitude\"])\n",
    "handover_df.to_csv(\"reachable_handover_points.csv\", index=False)\n",
    "\n",
    "print(f\"The handover point data has been saved to this file: 'reachable_handover_points.csv'\")\n"
   ]
  },
  {
   "cell_type": "code",
   "execution_count": 6,
   "id": "0046672e-1c37-4587-891b-184d7ef36408",
   "metadata": {},
   "outputs": [
    {
     "data": {
      "image/png": "[encoded data removed]",
      "text/plain": [
       "<Figure size 800x800 with 1 Axes>"
      ]
     },
     "metadata": {},
     "output_type": "display_data"
    }
   ],
   "source": [
    "import matplotlib.pyplot as plt\n",
    "\n",
    "# Extract the latitude and longitude of the intersection point\n",
    "latitudes = [point[0] for point in reachable_handover_points]\n",
    "longitudes = [point[1] for point in reachable_handover_points]\n",
    "\n",
    "# Draw handover points\n",
    "plt.figure(figsize=(8, 8))\n",
    "plt.scatter(longitudes, latitudes, c=\"blue\", label=\"Handover Points\", marker=\"o\", s=10)\n",
    "plt.title(\"Distribution of Reachable Handover Points\")\n",
    "plt.xlabel(\"Longitude\")\n",
    "plt.ylabel(\"Latitude\")\n",
    "plt.grid(True)\n",
    "plt.legend()\n",
    "plt.show()\n"
   ]
  },
  {
   "cell_type": "code",
   "execution_count": 7,
   "id": "8f1abba6-db10-4673-bdc0-511cf5994229",
   "metadata": {},
   "outputs": [],
   "source": [
    "truck_speed_kmh = 30  # Truck speed 30 km/h\n",
    "truck_speed_ms = truck_speed_kmh * 1000 / 3600  # Convert to meters per second\n"
   ]
  },
  {
   "cell_type": "code",
   "execution_count": 8,
   "id": "61807ae4-a7a7-49b7-b8ca-4233e3d38dc4",
   "metadata": {},
   "outputs": [
    {
     "name": "stdout",
     "output_type": "stream",
     "text": [
      "Handover point (1.35, 103.82) Arrival time：08:00:00\n",
      "Handover point (1.3545, 103.8245) Arrival time：08:01:24\n",
      "Handover point (1.359, 103.829) Arrival time：08:02:49\n",
      "Handover point (1.3635, 103.8335) Arrival time：08:04:14\n"
     ]
    }
   ],
   "source": [
    "import datetime\n",
    "\n",
    "# Assume the truck leaves from the starting point at 08:00\n",
    "start_time = datetime.datetime.strptime(\"08:00:00\", \"%H:%M:%S\")\n",
    "\n",
    "# Calculate the time to reach each handover point\n",
    "arrival_times = []\n",
    "for point in reachable_handover_points:\n",
    "    # Calculate the distance from the truck's current position to the handover point (unit: meters)\n",
    "    distance = geodesic((1.3500, 103.8200), point).meters  # The starting point is set to (1.3500, 103.8200)\n",
    "    \n",
    "    # Calculation time (in seconds)\n",
    "    time_seconds = distance / truck_speed_ms\n",
    "    \n",
    "    # Calculate arrival time\n",
    "    arrival_time = start_time + datetime.timedelta(seconds=time_seconds)\n",
    "    \n",
    "    arrival_times.append({\n",
    "        \"handover_point\": point,\n",
    "        \"arrival_time\": arrival_time.strftime(\"%H:%M:%S\")  # Formatted as hours, minutes, and seconds\n",
    "})\n",
    "\n",
    "# Output the arrival time of the first few intersections\n",
    "for arrival in arrival_times[:5]:\n",
    "    print(f\"Handover point {arrival['handover_point']} Arrival time：{arrival['arrival_time']}\")\n"
   ]
  },
  {
   "cell_type": "code",
   "execution_count": 9,
   "id": "7a0a7cab-ff4f-492c-9b43-706c88027be9",
   "metadata": {},
   "outputs": [],
   "source": [
    "drone_speed_kmh = 60  # The speed of the drone, assumed to be 60 km/h\n",
    "drone_speed_ms = drone_speed_kmh * 1000 / 3600  # Convert to meters per second\n",
    "\n",
    "# Assume the wind speed is 10 km/h (you can adjust it according to the actual situation)\n",
    "wind_speed_kmh = 10\n",
    "wind_speed_ms = wind_speed_kmh * 1000 / 3600  # Convert to meters per second\n"
   ]
  },
  {
   "cell_type": "code",
   "execution_count": 10,
   "id": "2a5afa2d-f048-47e3-995d-a426f73f6a96",
   "metadata": {},
   "outputs": [
    {
     "name": "stdout",
     "output_type": "stream",
     "text": [
      "The flight time of the drone from the starting point to the handover point (1.35, 103.82): 0.0s\n",
      "Drone arrival time：08:00:00\n",
      "The flight time of the drone from the starting point to the handover point (1.3545, 103.8245): 36.30699130882895s\n",
      "Drone arrival time：08:00:36\n",
      "The flight time of the drone from the starting point to the handover point (1.359, 103.829): 72.61394958768392s\n",
      "Drone arrival time：08:01:12\n",
      "The flight time of the drone from the starting point to the handover point (1.3635, 103.8335): 108.92087472702566s\n",
      "Drone arrival time：08:01:48\n"
     ]
    }
   ],
   "source": [
    "# Calculate flight time\n",
    "drone_arrival_times = []\n",
    "for point in reachable_handover_points:\n",
    "    # Calculate flight distance (unit: meters)\n",
    "    distance = geodesic((1.3500, 103.8200), point).meters  # Assume the drone departs from (1.3500, 103.8200)\n",
    "    \n",
    "    # Wind speed correction: Assuming tailwind (increased wind speed)\n",
    "    actual_drone_speed_ms = drone_speed_ms + wind_speed_ms  # With a tailwind, the speed increases\n",
    "    \n",
    "    # Calculate flight time (in seconds)\n",
    "    flight_time_seconds = distance / actual_drone_speed_ms\n",
    "    \n",
    "    # Calculate arrival time\n",
    "    flight_time = datetime.timedelta(seconds=flight_time_seconds)\n",
    "    \n",
    "    drone_arrival_times.append({\n",
    "        \"handover_point\": point,\n",
    "        \"flight_time_seconds\": flight_time_seconds,\n",
    "        \"arrival_time\": (start_time + flight_time).strftime(\"%H:%M:%S\")\n",
    "    })\n",
    "\n",
    "# Output the arrival time of the drones at the first few handover points\n",
    "for arrival in drone_arrival_times[:5]:\n",
    "    print(f\"The flight time of the drone from the starting point to the handover point {arrival['handover_point']}: {arrival['flight_time_seconds']}s\")\n",
    "    print(f\"Drone arrival time：{arrival['arrival_time']}\")\n"
   ]
  },
  {
   "cell_type": "code",
   "execution_count": 11,
   "id": "c84cf4a4-5b56-4f8f-96a8-156706cac48b",
   "metadata": {},
   "outputs": [
    {
     "name": "stdout",
     "output_type": "stream",
     "text": [
      "Handover point (1.35, 103.82)：\n",
      "Truck Arrival Time: 08:00:00\n",
      "Drone arrival time: 08:00:00\n",
      "Handover time: 08:00:00\n",
      "Waiting time: 0.0 s\n",
      "\n",
      "Handover point (1.3545, 103.8245)：\n",
      "Truck Arrival Time: 08:01:24\n",
      "Drone arrival time: 08:00:36\n",
      "Handover time: 08:01:24\n",
      "Waiting time: 48.0 s\n",
      "\n",
      "Handover point (1.359, 103.829)：\n",
      "Truck Arrival Time: 08:02:49\n",
      "Drone arrival time: 08:01:12\n",
      "Handover time: 08:02:49\n",
      "Waiting time: 97.0 s\n",
      "\n",
      "Handover point (1.3635, 103.8335)：\n",
      "Truck Arrival Time: 08:04:14\n",
      "Drone arrival time: 08:01:48\n",
      "Handover time: 08:04:14\n",
      "Waiting time: 146.0 s\n",
      "\n"
     ]
    }
   ],
   "source": [
    "handover_with_waiting_time = []\n",
    "\n",
    "for i, point in enumerate(reachable_handover_points):\n",
    "    # Get the arrival time of trucks and drones\n",
    "    truck_arrival = arrival_times[i][\"arrival_time\"]\n",
    "    drone_arrival = drone_arrival_times[i][\"arrival_time\"]\n",
    "    \n",
    "    # Calculate the time difference (in seconds)\n",
    "    truck_arrival_time = datetime.datetime.strptime(truck_arrival, \"%H:%M:%S\")\n",
    "    drone_arrival_time = datetime.datetime.strptime(drone_arrival, \"%H:%M:%S\")\n",
    "    \n",
    "    # Calculate handover time\n",
    "    handover_time = max(truck_arrival_time, drone_arrival_time)\n",
    "    \n",
    "    # Calculate waiting time\n",
    "    waiting_time = max(truck_arrival_time, drone_arrival_time) - min(truck_arrival_time, drone_arrival_time)\n",
    "    \n",
    "    handover_with_waiting_time.append({\n",
    "        \"handover_point\": point,\n",
    "        \"truck_arrival_time\": truck_arrival_time.strftime(\"%H:%M:%S\"),\n",
    "        \"drone_arrival_time\": drone_arrival_time.strftime(\"%H:%M:%S\"),\n",
    "        \"handover_time\": handover_time.strftime(\"%H:%M:%S\"),\n",
    "        \"waiting_time_seconds\": waiting_time.total_seconds()\n",
    "    })\n",
    "\n",
    "# Output the handover time and waiting time of the first few handover points\n",
    "for handover in handover_with_waiting_time[:5]:\n",
    "    print(f\"Handover point {handover['handover_point']}：\")\n",
    "    print(f\"Truck Arrival Time: {handover['truck_arrival_time']}\")\n",
    "    print(f\"Drone arrival time: {handover['drone_arrival_time']}\")\n",
    "    print(f\"Handover time: {handover['handover_time']}\")\n",
    "    print(f\"Waiting time: {handover['waiting_time_seconds']} s\\n\")\n"
   ]
  },
  {
   "cell_type": "code",
   "execution_count": 15,
   "id": "39659781-4eed-4f59-a6c9-5eb6821ea15f",
   "metadata": {},
   "outputs": [
    {
     "name": "stdout",
     "output_type": "stream",
     "text": [
      "  Truck UAV Handover_Point     Time\n",
      "0    T1  D1             P1  36000.0\n",
      "1    T1  D1             P2  36600.0\n",
      "2    T1  D1             P3  37200.0\n",
      "3    T1  D1             P4  37800.0\n",
      "4    T1  D1             P5  38400.0\n"
     ]
    }
   ],
   "source": [
    "import pandas as pd\n",
    "import datetime\n",
    "\n",
    "# Define the number of trucks, UAVs, and handover points\n",
    "num_trucks = 3  # Example number of trucks\n",
    "num_uavs = 2    # Example number of UAVs\n",
    "num_handover_points = 5  # Example number of handover points\n",
    "\n",
    "# Sample arrival times for trucks and UAVs (replace with actual data)\n",
    "arrival_times = [{\"arrival_time\": \"10:00:00\"}, {\"arrival_time\": \"10:10:00\"}, {\"arrival_time\": \"10:20:00\"}, {\"arrival_time\": \"10:30:00\"}, {\"arrival_time\": \"10:40:00\"}]\n",
    "drone_arrival_times = [{\"arrival_time\": \"09:50:00\"}, {\"arrival_time\": \"10:05:00\"}, {\"arrival_time\": \"10:15:00\"}, {\"arrival_time\": \"10:25:00\"}, {\"arrival_time\": \"10:35:00\"}]\n",
    "\n",
    "# Create empty DataFrame\n",
    "handover_df = pd.DataFrame(columns=[\"Truck\", \"UAV\", \"Handover_Point\", \"Time\"])\n",
    "\n",
    "# Generate truck, UAV, and handover point IDs\n",
    "truck_ids = [f\"T{i+1}\" for i in range(num_trucks)]\n",
    "uav_ids = [f\"D{i+1}\" for i in range(num_uavs)]\n",
    "handover_points = [f\"P{k+1}\" for k in range(num_handover_points)]\n",
    "\n",
    "# List to store each row of data\n",
    "handover_data = []\n",
    "\n",
    "# Fill DataFrame with handover data\n",
    "for i in range(num_trucks):\n",
    "    for j in range(num_uavs):\n",
    "        for k in range(num_handover_points):\n",
    "            truck_arrival_time = arrival_times[k][\"arrival_time\"]\n",
    "            drone_arrival_time = drone_arrival_times[k][\"arrival_time\"]\n",
    "            \n",
    "            truck_arrival_time = datetime.datetime.strptime(truck_arrival_time, \"%H:%M:%S\")\n",
    "            drone_arrival_time = datetime.datetime.strptime(drone_arrival_time, \"%H:%M:%S\")\n",
    "            \n",
    "            handover_time = max(truck_arrival_time, drone_arrival_time)\n",
    "            \n",
    "            # Add each row of data to the list\n",
    "            handover_data.append({\n",
    "                \"Truck\": truck_ids[i],\n",
    "                \"UAV\": uav_ids[j],\n",
    "                \"Handover_Point\": handover_points[k],\n",
    "                \"Time\": (handover_time - datetime.datetime(1900, 1, 1)).total_seconds()\n",
    "            })\n",
    "\n",
    "# Remove empty columns before merging to avoid issues with concat\n",
    "handover_df = handover_df.dropna(axis=1, how='all')\n",
    "\n",
    "# Combine data\n",
    "handover_df = pd.concat([handover_df, pd.DataFrame(handover_data)], ignore_index=True)\n",
    "\n",
    "# View the DataFrame results\n",
    "print(handover_df.head())\n"
   ]
  },
  {
   "cell_type": "code",
   "execution_count": null,
   "id": "89a1384f-2346-409e-866d-252abdbe3873",
   "metadata": {},
   "outputs": [],
   "source": []
  }
 ],
 "metadata": {
  "kernelspec": {
   "display_name": "Python 3 (ipykernel)",
   "language": "python",
   "name": "python3"
  },
  "language_info": {
   "codemirror_mode": {
    "name": "ipython",
    "version": 3
   },
   "file_extension": ".py",
   "mimetype": "text/x-python",
   "name": "python",
   "nbconvert_exporter": "python",
   "pygments_lexer": "ipython3",
   "version": "3.12.6"
  }
 },
 "nbformat": 4,
 "nbformat_minor": 5
}
